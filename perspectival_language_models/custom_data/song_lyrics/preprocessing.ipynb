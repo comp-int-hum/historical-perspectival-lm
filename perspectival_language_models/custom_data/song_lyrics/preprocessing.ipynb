{
 "cells": [
  {
   "cell_type": "code",
   "execution_count": null,
   "metadata": {},
   "outputs": [],
   "source": [
    "import pandas as pd\n",
    "import random\n",
    "import os\n",
    "from tqdm import tqdm"
   ]
  },
  {
   "cell_type": "code",
   "execution_count": null,
   "metadata": {},
   "outputs": [],
   "source": [
    "# load csv from \n",
    "# https://www.kaggle.com/datasets/carlosgdcj/genius-song-lyrics-with-language-information/data"
   ]
  },
  {
   "cell_type": "code",
   "execution_count": null,
   "metadata": {},
   "outputs": [],
   "source": [
    "# can take 10min+ to load\n",
    "data_df = pd.read_csv('song_lyrics.csv')"
   ]
  },
  {
   "cell_type": "code",
   "execution_count": null,
   "metadata": {},
   "outputs": [],
   "source": [
    "english_df = data_df[data_df['language'] == 'en']"
   ]
  },
  {
   "cell_type": "code",
   "execution_count": null,
   "metadata": {},
   "outputs": [],
   "source": [
    "def get_words(lyrics, max_words):\n",
    "    count = 0\n",
    "    for i, lyric in enumerate(lyrics):\n",
    "        count += len(lyric.split())\n",
    "        if count > max_words:\n",
    "            return lyrics[:i], i\n",
    "    raise ValueError(\"Not enough words in lyrics to reach max_words\")"
   ]
  },
  {
   "cell_type": "code",
   "execution_count": null,
   "metadata": {},
   "outputs": [],
   "source": [
    "texts = {}\n",
    "random.seed(42)\n",
    "\n",
    "for tag in tqdm(english_df['tag'].unique()):\n",
    "    lyrics = english_df[english_df['tag'] == tag]['lyrics'].tolist()\n",
    "    random.shuffle(lyrics)\n",
    "\n",
    "    training_text, i = get_words(lyrics, 10**7)\n",
    "    lyrics = lyrics[i:]\n",
    "    validation_text, i = get_words(lyrics, 10**6)\n",
    "    lyrics = lyrics[i:]\n",
    "    test_text, i = get_words(lyrics, 5*(10**6))\n",
    "\n",
    "    texts[tag] = {\n",
    "        'training': training_text,\n",
    "        'validation': validation_text,\n",
    "        'test': test_text\n",
    "    }"
   ]
  },
  {
   "cell_type": "code",
   "execution_count": null,
   "metadata": {},
   "outputs": [],
   "source": [
    "for tag in texts.keys():\n",
    "    training = \"\\n\\n\".join(texts[tag]['training'])\n",
    "    validation = \"\\n\\n\".join(texts[tag]['validation'])\n",
    "    test = \"\\n\\n\".join(texts[tag]['test'])\n",
    "\n",
    "    print(f\"Tag: {tag}\")\n",
    "    print(f\"Training data length: {len(training.split())}\")\n",
    "    print(f\"Validation data length: {len(validation.split())}\")\n",
    "    print(f\"Test data length: {len(test.split())}\")\n",
    "\n",
    "    if os.path.exists(tag):\n",
    "        os.system(f\"rm -rf {tag}\")\n",
    "    os.makedirs(tag)\n",
    "    with open(f\"{tag}/data.train\", \"w\") as f:\n",
    "        f.write(training)\n",
    "    with open(f\"{tag}/data.dev\", \"w\") as f:\n",
    "        f.write(validation)\n",
    "    with open(f\"{tag}/data.test\", \"w\") as f:\n",
    "        f.write(test)\n"
   ]
  }
 ],
 "metadata": {
  "kernelspec": {
   "display_name": ".venv",
   "language": "python",
   "name": "python3"
  },
  "language_info": {
   "codemirror_mode": {
    "name": "ipython",
    "version": 3
   },
   "file_extension": ".py",
   "mimetype": "text/x-python",
   "name": "python",
   "nbconvert_exporter": "python",
   "pygments_lexer": "ipython3",
   "version": "3.11.4"
  }
 },
 "nbformat": 4,
 "nbformat_minor": 2
}
