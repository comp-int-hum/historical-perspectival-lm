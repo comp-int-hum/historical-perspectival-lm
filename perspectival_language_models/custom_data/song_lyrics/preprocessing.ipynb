{
 "cells": [
  {
   "cell_type": "code",
   "execution_count": 35,
   "metadata": {},
   "outputs": [],
   "source": [
    "import pandas as pd\n",
    "import random\n",
    "import os\n",
    "from tqdm import tqdm"
   ]
  },
  {
   "cell_type": "code",
   "execution_count": null,
   "metadata": {},
   "outputs": [],
   "source": [
    "# load csv from \n",
    "# https://www.kaggle.com/datasets/carlosgdcj/genius-song-lyrics-with-language-information/data"
   ]
  },
  {
   "cell_type": "code",
   "execution_count": 2,
   "metadata": {},
   "outputs": [],
   "source": [
    "# can take 10min+ to load\n",
    "data_df = pd.read_csv('song_lyrics.csv')"
   ]
  },
  {
   "cell_type": "code",
   "execution_count": 10,
   "metadata": {},
   "outputs": [],
   "source": [
    "english_df = data_df[data_df['language'] == 'en']"
   ]
  },
  {
   "cell_type": "code",
   "execution_count": 22,
   "metadata": {},
   "outputs": [],
   "source": [
    "def get_words(lyrics, max_words):\n",
    "    count = 0\n",
    "    for i, lyric in enumerate(lyrics):\n",
    "        count += len(lyric.split())\n",
    "        if count > max_words:\n",
    "            return lyrics[:i], i\n",
    "    raise ValueError(\"Not enough words in lyrics to reach max_words\")"
   ]
  },
  {
   "cell_type": "code",
   "execution_count": 36,
   "metadata": {},
   "outputs": [
    {
     "name": "stderr",
     "output_type": "stream",
     "text": [
      "Python(51164) MallocStackLogging: can't turn off malloc stack logging because it was not enabled.\n",
      "100%|██████████| 6/6 [03:21<00:00, 33.64s/it]\n"
     ]
    }
   ],
   "source": [
    "texts = {}\n",
    "random.seed(42)\n",
    "\n",
    "for tag in tqdm(english_df['tag'].unique()):\n",
    "    lyrics = english_df[english_df['tag'] == tag]['lyrics'].tolist()\n",
    "    random.shuffle(lyrics)\n",
    "\n",
    "    training_text, i = get_words(lyrics, 10**7)\n",
    "    lyrics = lyrics[i:]\n",
    "    validation_text, i = get_words(lyrics, 10**6)\n",
    "    lyrics = lyrics[i:]\n",
    "    test_text, i = get_words(lyrics, 5*(10**6))\n",
    "\n",
    "    texts[tag] = {\n",
    "        'training': training_text,\n",
    "        'validation': validation_text,\n",
    "        'test': test_text\n",
    "    }"
   ]
  },
  {
   "cell_type": "code",
   "execution_count": 37,
   "metadata": {},
   "outputs": [
    {
     "name": "stdout",
     "output_type": "stream",
     "text": [
      "Tag: rap\n",
      "Training data length: 9999456\n",
      "Validation data length: 999799\n",
      "Test data length: 4999726\n",
      "Tag: rb\n",
      "Training data length: 9999941\n",
      "Validation data length: 999874\n",
      "Test data length: 4999850\n",
      "Tag: rock\n",
      "Training data length: 9999571\n",
      "Validation data length: 999619\n",
      "Test data length: 4999962\n",
      "Tag: pop\n",
      "Training data length: 9999463\n",
      "Validation data length: 999890\n",
      "Test data length: 4999716\n",
      "Tag: misc\n",
      "Training data length: 9999701\n",
      "Validation data length: 996851\n",
      "Test data length: 4998757\n",
      "Tag: country\n",
      "Training data length: 9999948\n",
      "Validation data length: 999719\n",
      "Test data length: 4999814\n"
     ]
    }
   ],
   "source": [
    "for tag in texts.keys():\n",
    "    training = \"\\n\\n\".join(texts[tag]['training'])\n",
    "    validation = \"\\n\\n\".join(texts[tag]['validation'])\n",
    "    test = \"\\n\\n\".join(texts[tag]['test'])\n",
    "\n",
    "    print(f\"Tag: {tag}\")\n",
    "    print(f\"Training data length: {len(training.split())}\")\n",
    "    print(f\"Validation data length: {len(validation.split())}\")\n",
    "    print(f\"Test data length: {len(test.split())}\")\n",
    "\n",
    "    if os.path.exists(tag):\n",
    "        os.system(f\"rm -rf {tag}\")\n",
    "    os.makedirs(tag)\n",
    "    with open(f\"{tag}/data.train\", \"w\") as f:\n",
    "        f.write(training)\n",
    "    with open(f\"{tag}/data.dev\", \"w\") as f:\n",
    "        f.write(validation)\n",
    "    with open(f\"{tag}/data.test\", \"w\") as f:\n",
    "        f.write(test)\n"
   ]
  }
 ],
 "metadata": {
  "kernelspec": {
   "display_name": ".venv",
   "language": "python",
   "name": "python3"
  },
  "language_info": {
   "codemirror_mode": {
    "name": "ipython",
    "version": 3
   },
   "file_extension": ".py",
   "mimetype": "text/x-python",
   "name": "python",
   "nbconvert_exporter": "python",
   "pygments_lexer": "ipython3",
   "version": "3.11.4"
  }
 },
 "nbformat": 4,
 "nbformat_minor": 2
}
